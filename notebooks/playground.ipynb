{
 "cells": [
  {
   "cell_type": "code",
   "id": "initial_id",
   "metadata": {
    "collapsed": true,
    "ExecuteTime": {
     "end_time": "2024-09-04T09:09:22.109438Z",
     "start_time": "2024-09-04T09:09:22.107868Z"
    }
   },
   "source": "# AWK++ Playground",
   "outputs": [],
   "execution_count": 38
  },
  {
   "metadata": {},
   "cell_type": "markdown",
   "source": "# Compatible with JSON Net",
   "id": "67ec5513050532b0"
  },
  {
   "metadata": {
    "ExecuteTime": {
     "end_time": "2024-09-04T16:02:04.048895Z",
     "start_time": "2024-09-04T16:02:03.965148Z"
    }
   },
   "cell_type": "code",
   "source": [
    "from awk_plus_plus.cli import interpret\n",
    "\n",
    "interpret(\"1 + 2 * 3\")"
   ],
   "id": "e6c63014fe0c39d1",
   "outputs": [
    {
     "name": "stdout",
     "output_type": "stream",
     "text": [
      "7\n"
     ]
    }
   ],
   "execution_count": 9
  },
  {
   "metadata": {
    "ExecuteTime": {
     "end_time": "2024-09-04T16:02:06.279138Z",
     "start_time": "2024-09-04T16:02:06.196482Z"
    }
   },
   "cell_type": "code",
   "source": [
    "from awk_plus_plus.cli import interpret\n",
    "\n",
    "interpret(\"\"\"\n",
    "{\n",
    "  \"key\": 1+2*3,\n",
    "  \"x\": $.key+1\n",
    "}\n",
    "\"\"\")    "
   ],
   "id": "dc9f31ef7fcdfd63",
   "outputs": [
    {
     "name": "stdout",
     "output_type": "stream",
     "text": [
      "{\"key\": 7, \"x\": 8}\n"
     ]
    }
   ],
   "execution_count": 10
  },
  {
   "metadata": {
    "ExecuteTime": {
     "end_time": "2024-09-04T16:21:06.812296Z",
     "start_time": "2024-09-04T16:21:06.728306Z"
    }
   },
   "cell_type": "code",
   "source": [
    "from awk_plus_plus.cli import interpret\n",
    "\n",
    "interpret(\"\"\"\n",
    "local f(x, y=10) = x + y;\n",
    "{\n",
    "  \"key\": 1+2*3,\n",
    "  \"x\": {\n",
    "     \"y\": [f($.key+1), \"1\"]\n",
    "  }\n",
    "}\n",
    "\"\"\")    "
   ],
   "id": "37468a32b1820329",
   "outputs": [
    {
     "name": "stdout",
     "output_type": "stream",
     "text": [
      "[2024-09-04 09:21:06] ERROR:venv:'NoneType' object has no attribute 'group'\n",
      "{\"key\": 7, \"x\": {\"y\": [18, \"1\"]}}\n"
     ]
    }
   ],
   "execution_count": 21
  },
  {
   "metadata": {
    "ExecuteTime": {
     "end_time": "2024-09-04T17:38:19.727847Z",
     "start_time": "2024-09-04T17:38:19.665132Z"
    }
   },
   "cell_type": "code",
   "source": [
    "from awk_plus_plus.cli import interpret\n",
    "\n",
    "interpret(\"\"\"\n",
    "local f(x, y=10) = x + y;\n",
    "{\n",
    "  \"key\": 1+2*3,\n",
    "  \"x\": {\n",
    "     \"y\": \"sql: SELECT 1 as id;\"\n",
    "  }\n",
    "}\n",
    "\"\"\", db_name=\":memory:\", verbose=4)"
   ],
   "id": "8562f4c1c89b69b8",
   "outputs": [
    {
     "data": {
      "text/plain": [
       "[{'key': 7, 'x': {'y': [{'id': 1}]}}]"
      ]
     },
     "execution_count": 2,
     "metadata": {},
     "output_type": "execute_result"
    }
   ],
   "execution_count": 2
  },
  {
   "metadata": {
    "ExecuteTime": {
     "end_time": "2024-09-04T17:58:57.418798Z",
     "start_time": "2024-09-04T17:58:57.416698Z"
    }
   },
   "cell_type": "code",
   "source": [
    "import urllib\n",
    "urllib.parse.urlparse(\"ssh://a:b@x.com/g\")\n",
    "\n"
   ],
   "id": "3bf9b7ea9818cd76",
   "outputs": [
    {
     "data": {
      "text/plain": [
       "ParseResult(scheme='ssh', netloc='a:b@x.com', path='/g', params='', query='', fragment='')"
      ]
     },
     "execution_count": 8,
     "metadata": {},
     "output_type": "execute_result"
    }
   ],
   "execution_count": 8
  },
  {
   "metadata": {},
   "cell_type": "markdown",
   "source": "",
   "id": "92c3fae9103b9130"
  }
 ],
 "metadata": {
  "kernelspec": {
   "display_name": "awk",
   "language": "python",
   "name": "awk"
  },
  "language_info": {
   "codemirror_mode": {
    "name": "ipython",
    "version": 2
   },
   "file_extension": ".py",
   "mimetype": "text/x-python",
   "name": "python",
   "nbconvert_exporter": "python",
   "pygments_lexer": "ipython2",
   "version": "2.7.6"
  }
 },
 "nbformat": 4,
 "nbformat_minor": 5
}
